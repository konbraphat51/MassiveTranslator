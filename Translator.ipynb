{
  "nbformat": 4,
  "nbformat_minor": 0,
  "metadata": {
    "colab": {
      "provenance": [],
      "gpuType": "T4"
    },
    "kernelspec": {
      "name": "python3",
      "display_name": "Python 3"
    },
    "language_info": {
      "name": "python"
    },
    "accelerator": "GPU"
  },
  "cells": [
    {
      "cell_type": "code",
      "source": [
        "import os\n",
        "os.environ[\"ARGOS_DEVICE_TYPE\"]=\"cuda\""
      ],
      "metadata": {
        "id": "UBWWDQmKtu2T"
      },
      "execution_count": null,
      "outputs": []
    },
    {
      "cell_type": "code",
      "source": [
        "lang_to = \"en\""
      ],
      "metadata": {
        "id": "8jGYVoCsokKp"
      },
      "execution_count": null,
      "outputs": []
    },
    {
      "cell_type": "code",
      "execution_count": null,
      "metadata": {
        "id": "WDEBFM0MiAJU"
      },
      "outputs": [],
      "source": [
        "!pip install argostranslate\n",
        "!pip install langdetect"
      ]
    },
    {
      "cell_type": "code",
      "source": [
        "import argostranslate.package\n",
        "from tqdm import tqdm\n",
        "\n",
        "argostranslate.package.update_package_index()\n",
        "available_packages = argostranslate.package.get_available_packages()\n",
        "\n",
        "available_packages"
      ],
      "metadata": {
        "id": "xgSPkNbjjhKg"
      },
      "execution_count": null,
      "outputs": []
    },
    {
      "cell_type": "code",
      "source": [
        "for package in tqdm(list(available_packages)):\n",
        "\targostranslate.package.install_from_path(package.download())"
      ],
      "metadata": {
        "id": "vpkTCYRdjtaI"
      },
      "execution_count": null,
      "outputs": []
    },
    {
      "cell_type": "code",
      "source": [
        "from langdetect import detect\n",
        "from glob import glob\n",
        "from argostranslate.translate import translate"
      ],
      "metadata": {
        "id": "M7sX0B7nj0xO"
      },
      "execution_count": null,
      "outputs": []
    },
    {
      "cell_type": "code",
      "source": [
        "files = glob(\"/content/*.txt\")\n",
        "\n",
        "contents = []\n",
        "\n",
        "for file in files:\n",
        "  with open(file, \"r\", encoding=\"utf-8\") as f:\n",
        "    content = f.read()\n",
        "\n",
        "  contents.append((file, content))\n",
        "\n",
        "len(contents)"
      ],
      "metadata": {
        "id": "W9XZv1h2lh-y"
      },
      "execution_count": null,
      "outputs": []
    },
    {
      "cell_type": "code",
      "source": [
        "translated = []\n",
        "\n",
        "for content in tqdm(contents):\n",
        "  try:\n",
        "    t = translate(content[1], from_code = detect(content[1]), to_code = lang_to)\n",
        "\n",
        "    translated.append((content[0], t))\n",
        "  except:\n",
        "    pass"
      ],
      "metadata": {
        "id": "F9zhSOwQtxT4"
      },
      "execution_count": null,
      "outputs": []
    },
    {
      "cell_type": "code",
      "source": [
        "import os\n",
        "\n",
        "os.mkdir(\"/content/translated\")"
      ],
      "metadata": {
        "id": "_99ZLQP3wX9Q"
      },
      "execution_count": null,
      "outputs": []
    },
    {
      "cell_type": "code",
      "source": [
        "for t in translated:\n",
        "  file_name = t[0].split(\"/\")[-1]\n",
        "  with open(\"/content/translated/\"+file_name, \"w\", encoding=\"utf-8\") as f:\n",
        "    f.write(t[1])"
      ],
      "metadata": {
        "id": "rtd_i52HoTNI"
      },
      "execution_count": null,
      "outputs": []
    },
    {
      "cell_type": "code",
      "source": [
        "!zip -r /content/download.zip /content/translated\n",
        "\n",
        "from google.colab import files\n",
        "files.download(\"/content/download.zip\")"
      ],
      "metadata": {
        "id": "yer_XJSvwnKG"
      },
      "execution_count": null,
      "outputs": []
    }
  ]
}