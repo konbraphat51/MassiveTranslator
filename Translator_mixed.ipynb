{
  "cells": [
    {
      "cell_type": "code",
      "execution_count": null,
      "metadata": {
        "id": "UBWWDQmKtu2T"
      },
      "outputs": [],
      "source": [
        "import os\n",
        "os.environ[\"ARGOS_DEVICE_TYPE\"]=\"cuda\""
      ]
    },
    {
      "cell_type": "code",
      "execution_count": null,
      "metadata": {
        "id": "8jGYVoCsokKp"
      },
      "outputs": [],
      "source": [
        "lang_to = \"it\" #@param {type:\"string\"}"
      ]
    },
    {
      "cell_type": "code",
      "execution_count": null,
      "metadata": {
        "colab": {
          "base_uri": "https://localhost:8080/"
        },
        "id": "xgSPkNbjjhKg",
        "outputId": "c455ac66-7108-47b9-d558-a9b5a38ea1f1"
      },
      "outputs": [],
      "source": [
        "import argostranslate.package\n",
        "from tqdm import tqdm\n",
        "\n",
        "argostranslate.package.update_package_index()\n",
        "available_packages = argostranslate.package.get_available_packages()\n",
        "\n",
        "available_packages"
      ]
    },
    {
      "cell_type": "code",
      "execution_count": null,
      "metadata": {
        "colab": {
          "base_uri": "https://localhost:8080/"
        },
        "id": "vpkTCYRdjtaI",
        "outputId": "493c456e-eaf8-491f-ccf4-67f872eae168"
      },
      "outputs": [],
      "source": [
        "# for package in tqdm(list(available_packages)):\n",
        "# \targostranslate.package.install_from_path(package.download())"
      ]
    },
    {
      "cell_type": "code",
      "execution_count": null,
      "metadata": {
        "id": "M7sX0B7nj0xO"
      },
      "outputs": [],
      "source": [
        "from lingua import Language, LanguageDetectorBuilder\n",
        "from glob import glob\n",
        "from argostranslate.translate import translate"
      ]
    },
    {
      "cell_type": "code",
      "execution_count": null,
      "metadata": {
        "colab": {
          "base_uri": "https://localhost:8080/"
        },
        "id": "W9XZv1h2lh-y",
        "outputId": "11c73971-013a-4338-a94d-1f756c98ef67"
      },
      "outputs": [],
      "source": [
        "files = glob(\"data/*.txt\")\n",
        "\n",
        "contents = []\n",
        "\n",
        "for file in files:\n",
        "  with open(file, \"r\", encoding=\"utf-8\") as f:\n",
        "    content = f.read()\n",
        "\n",
        "  contents.append((file, content))\n",
        "\n",
        "len(contents)"
      ]
    },
    {
      "cell_type": "code",
      "execution_count": null,
      "metadata": {},
      "outputs": [],
      "source": [
        "detector = LanguageDetectorBuilder.from_all_spoken_languages().build()\n",
        "\n",
        "translated = []\n",
        "\n",
        "for file, content in tqdm(contents):\n",
        "\n",
        "  translated_text = \"\"\n",
        "  for result in detector.detect_multiple_languages_of(content):\n",
        "      try:\n",
        "        sentence = content[result.start_index:result.end_index]\n",
        "        original_language = result.language.iso_code_639_1.name.lower()\n",
        "        t = translate(sentence, from_code = original_language, to_code = lang_to)\n",
        "      except:\n",
        "        continue\n",
        "\n",
        "      translated_text += t\n",
        "      \n",
        "  translated.append((file, translated_text))"
      ]
    },
    {
      "cell_type": "code",
      "execution_count": null,
      "metadata": {
        "id": "_99ZLQP3wX9Q"
      },
      "outputs": [],
      "source": [
        "import os\n",
        "\n",
        "os.mkdir(\"translated_it\")"
      ]
    },
    {
      "cell_type": "code",
      "execution_count": null,
      "metadata": {
        "id": "rtd_i52HoTNI"
      },
      "outputs": [],
      "source": [
        "for t in translated:\n",
        "  file_name = t[0].split(\"\\\\\")[-1]\n",
        "  with open(os.path.join(\"translated_it/\", file_name), \"w\", encoding=\"utf-8\") as f:\n",
        "    f.write(t[1])"
      ]
    },
    {
      "cell_type": "code",
      "execution_count": null,
      "metadata": {
        "id": "xqPmr737i2BS"
      },
      "outputs": [],
      "source": []
    }
  ],
  "metadata": {
    "accelerator": "GPU",
    "colab": {
      "provenance": []
    },
    "kernelspec": {
      "display_name": "Python 3",
      "name": "python3"
    },
    "language_info": {
      "codemirror_mode": {
        "name": "ipython",
        "version": 3
      },
      "file_extension": ".py",
      "mimetype": "text/x-python",
      "name": "python",
      "nbconvert_exporter": "python",
      "pygments_lexer": "ipython3",
      "version": "3.10.13"
    }
  },
  "nbformat": 4,
  "nbformat_minor": 0
}
